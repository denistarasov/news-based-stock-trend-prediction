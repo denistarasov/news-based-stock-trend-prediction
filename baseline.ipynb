{
  "nbformat": 4,
  "nbformat_minor": 0,
  "metadata": {
    "kernelspec": {
      "display_name": "Python 3",
      "language": "python",
      "name": "python3"
    },
    "language_info": {
      "codemirror_mode": {
        "name": "ipython",
        "version": 3
      },
      "file_extension": ".py",
      "mimetype": "text/x-python",
      "name": "python",
      "nbconvert_exporter": "python",
      "pygments_lexer": "ipython3",
      "version": "3.6.8"
    },
    "colab": {
      "name": "baseline.ipynb",
      "provenance": [],
      "collapsed_sections": []
    }
  },
  "cells": [
    {
      "cell_type": "markdown",
      "metadata": {
        "id": "HrqzPnF4rbkF",
        "colab_type": "text"
      },
      "source": [
        "бейзлайн\n",
        "- первая часть (нахождения новостей с упоминанием компаний)\n",
        "    - использовать только заголовки (датасет https://github.com/yutkin/Lenta.Ru-News-Dataset)\n",
        "    - ~находить компании в заголовках через заранее заготовленный список компаний с Московской биржи~\n",
        "    - сначала попробовать только на Яндексе\n",
        "- вторая часть (проверять, как конкретная новость повлияла на акции компании)\n",
        "    - смотреть, изменилась ли цена (на 10%, Яндекс из-за закона Горелкина падал на 15%) на фиксированный процент в тот же день (далее можно попробовать 24 рабочих часа после новости)\n",
        "    - таким образом сделаем датасет для второй задачи (вида \"текст новости - компания - таргет (цена понизилась / осталась прежней / повысилась)\")\n",
        "    - обучить на трейне такого датасета модель, которая получает на вход эмбеддинг предложения и пытается предсказать влияние на акции (в какой-то степени это будет sentiment analysis), вначале можно простенькую модель из нескольких слоев с релу, в конце софтмакс на 3 класса\n"
      ]
    },
    {
      "cell_type": "markdown",
      "metadata": {
        "id": "cZ4s7CvIrbkc",
        "colab_type": "text"
      },
      "source": [
        "\n",
        "### Сейчас:\n",
        "- ~найти, откуда взять данные по бирже~ -- yfinance\n",
        "- ~посмотреть период закона Горелкина (27.07.19) (нужно проверить наличие тех же проблем, что внизу этой ячейки)~ -- вроде по графикам таких проблем нет\n",
        "- ~сделать функцию, которая к каждой новости покажет изменение цены в процентах~\n",
        "    - считать изменение к прошлому дню, если вчерашнее или сегодняшнее значение недоступно, то NaN\n",
        "- ~засунуть эти значения к соответствующим новостям~\n",
        "- ~посчитать таргеты (изменения вверх/вниз больше х% (1/-1) или 0)~\n",
        "- добавить других компаний\n",
        "    - где-то получить лист русских компаний, который есть в yahoo finance\n",
        "- обучить модель (предобученную на sentiment analysis, добавить пару слоев сверху и выход из 3 логитов, дальше софтмакс и получаем вероятность класса)\n",
        "\n",
        "### Проверки:\n",
        "- что случилось после новостей о законе Горелкина\n",
        "\n",
        "### Проблемы:\n",
        "- ~Проблемы с данными от pandas_datareader, в примере ниже слишком часто акции торгуются в нуле\n",
        "```mr = pandas_datareader.data.DataReader('YNDX', 'moex', start='2019-01-01', end='2019-10-31')\n",
        "mr.plot(subplots=True, figsize=(5, 10))```~ -- больше не использую pandas datareader, использую yfinance\n",
        "- ~из-за закона Горелкина (27.07.19) акции упали с 2520 до 2441, но без новостей падают еще больше (27.05.19, 2404 -> 2280)~ -- проблема из-за pandas datareader, больше не актуально"
      ]
    },
    {
      "cell_type": "code",
      "metadata": {
        "id": "L8SVVH5trbko",
        "colab_type": "code",
        "colab": {}
      },
      "source": [
        "import matplotlib.pyplot as plt\n",
        "import pandas as pd\n",
        "import numpy as np\n",
        "import tqdm\n",
        "import dateutil\n",
        "import datetime\n",
        "import json\n",
        "import os\n",
        "import requests"
      ],
      "execution_count": 0,
      "outputs": []
    },
    {
      "cell_type": "markdown",
      "metadata": {
        "id": "V1eeSBV-rblj",
        "colab_type": "text"
      },
      "source": [
        "- взять интерфакс, не только российские компании\n",
        "- посмтреть глазами, насколько разумны -1 и 1 (и из-за этого возможно поменять параметры)\n",
        "- достать данные за более короткий срок\n",
        "- обучить классификатор, ненулевых таргетов нужно 1000 (для предобученных можно меньше)\n",
        "- разница -15 минут и 4 часа, смотреть разницу между ними, если больше 5-10%, то ненулвой таргет (также можно сравнить минимум-максимум за этот промежуток)"
      ]
    },
    {
      "cell_type": "code",
      "metadata": {
        "id": "67nQw1z7rblo",
        "colab_type": "code",
        "colab": {}
      },
      "source": [
        "companies_to_listing_names = {\n",
        "    'Яндекс': 'YNDX',\n",
        "#     'Роснефть': 'ojscy',\n",
        "#     'Лукойл': 'lukoy',\n",
        "# #     'Сбербанк': 'SBER.ME',\n",
        "#     'Сбербанк': 'SBRCY',\n",
        "# #     'Русал': 'RUAL.ME',\n",
        "# #     'Русал': '0486.HK',\n",
        "#     'Газпром': 'OGZPY',\n",
        "# #     'ВТБ': 'VTBR.ME',\n",
        "# #     'Магнит': 'MGNT.ME',\n",
        "# #     'Магнит': 'MGNT.IL',\n",
        "# #     'Транснефть': 'TRNFP.ME',\n",
        "# #     'X5 Retail Group': 'FIVE.ME',\n",
        "# #     'Сургутнефтегаз': 'SGGD.VI',\n",
        "#     'Сургутнефтегаз': 'SGTPY',\n",
        "    \n",
        "    'Apple': 'AAPL',\n",
        "    'Microsoft': 'MSFT',\n",
        "    'Google': 'GOOG',\n",
        "    'Facebook': 'FB',\n",
        "    'Amazon': 'AMZN',\n",
        "    'Netflix': 'NFLX',\n",
        "    'Ford': 'F',\n",
        "    'General Motors': 'GM',\n",
        "    'Alphabet': 'GOOG',\n",
        "    'Verizon': 'VZ',\n",
        "    'General Electric': 'GE',\n",
        "    'Bank of America': 'BAC',\n",
        "    'Boeing': 'BA',\n",
        "    'Citigroup': 'C',\n",
        "    'Citibank': 'C',\n",
        "    'Dell': 'DELL',\n",
        "    'IBM': 'IBM',\n",
        "    'Intel': 'INTC',\n",
        "    'Procter & Gamble': 'PG',\n",
        "    'Pepsi': 'PEP',\n",
        "    'Coca-Cola': 'KO',\n",
        "    'AT&T': 'T',\n",
        "    'Johnson & Johnson': 'JNJ',\n",
        "    'Disney': 'DIS',\n",
        "    'Nvidia': 'NVDA',\n",
        "}\n",
        "\n",
        "listing_names_to_companies = {value: key for (key, value) in companies_to_listing_names.items()}"
      ],
      "execution_count": 0,
      "outputs": []
    },
    {
      "cell_type": "code",
      "metadata": {
        "id": "RqSb5FoprbmF",
        "colab_type": "code",
        "outputId": "4f272f6f-bbd8-4dca-b9c4-432fc1b8daf8",
        "colab": {
          "base_uri": "https://localhost:8080/",
          "height": 509
        }
      },
      "source": [
        "!rm -rf interfax.tar.gz\n",
        "!rm -rf interfax_20160101_20191015.csv\n",
        "!wget https://www.dropbox.com/s/9byysrc9gs8cvbx/interfax.tar.gz\n",
        "!tar -xzvf interfax.tar.gz"
      ],
      "execution_count": 0,
      "outputs": [
        {
          "output_type": "stream",
          "text": [
            "--2020-03-27 11:48:57--  https://www.dropbox.com/s/9byysrc9gs8cvbx/interfax.tar.gz\n",
            "Resolving www.dropbox.com (www.dropbox.com)... 162.125.9.1, 2620:100:601f:1::a27d:901\n",
            "Connecting to www.dropbox.com (www.dropbox.com)|162.125.9.1|:443... connected.\n",
            "HTTP request sent, awaiting response... 301 Moved Permanently\n",
            "Location: /s/raw/9byysrc9gs8cvbx/interfax.tar.gz [following]\n",
            "--2020-03-27 11:48:58--  https://www.dropbox.com/s/raw/9byysrc9gs8cvbx/interfax.tar.gz\n",
            "Reusing existing connection to www.dropbox.com:443.\n",
            "HTTP request sent, awaiting response... 302 Found\n",
            "Location: https://uc4207986edd391aaf48e4fc82a0.dl.dropboxusercontent.com/cd/0/inline/A0twfv5upr8iGJsVh_YQc2qTiBjmf3QypXfk0OsTV3QbJ6f2Yr9AyDGBhQiOlSkNJt1HmNFjp02rzS1ZzgdJRS4aKAM6qpLFzUssbBXCn7Txl2-ywJXMqVL-bgMFzgAo8qg/file# [following]\n",
            "--2020-03-27 11:48:58--  https://uc4207986edd391aaf48e4fc82a0.dl.dropboxusercontent.com/cd/0/inline/A0twfv5upr8iGJsVh_YQc2qTiBjmf3QypXfk0OsTV3QbJ6f2Yr9AyDGBhQiOlSkNJt1HmNFjp02rzS1ZzgdJRS4aKAM6qpLFzUssbBXCn7Txl2-ywJXMqVL-bgMFzgAo8qg/file\n",
            "Resolving uc4207986edd391aaf48e4fc82a0.dl.dropboxusercontent.com (uc4207986edd391aaf48e4fc82a0.dl.dropboxusercontent.com)... 162.125.9.6, 2620:100:601f:6::a27d:906\n",
            "Connecting to uc4207986edd391aaf48e4fc82a0.dl.dropboxusercontent.com (uc4207986edd391aaf48e4fc82a0.dl.dropboxusercontent.com)|162.125.9.6|:443... connected.\n",
            "HTTP request sent, awaiting response... 302 FOUND\n",
            "Location: /cd/0/inline2/A0vVhKr6VxAAN019lYGn6WQ9s1Qzp52V1C-IyTCpu_3o-N3S3qkQL14RSitfaqSFaxzsCEWSXuGx6fGrsLO2XIUzngb7jFLmXmiuI4kulpyBjrqo8ClkayjXin0He0OSm_NnrGYZIJ727L1m7nHjCqQUwc7gM70xZ4S1DDDBjMzDF9PQLVHGkMr1Dd3zhspqur6yAIVGXBd1nRH1E4UE_ECBhdXGWLWOECzizuhrETwdh7ajcqDDEftxoGruSQP-IzmLXM-Q6Pd8J2BX9IU46QVQ5mz7Uq_qguaJG2Z3VguvVnwnTiZ0BE0OYx5fgFgG3DbbAxGurxbLp_voVwEY9VxeMXX27og0EiYAEE0zgeHtjQ/file [following]\n",
            "--2020-03-27 11:48:59--  https://uc4207986edd391aaf48e4fc82a0.dl.dropboxusercontent.com/cd/0/inline2/A0vVhKr6VxAAN019lYGn6WQ9s1Qzp52V1C-IyTCpu_3o-N3S3qkQL14RSitfaqSFaxzsCEWSXuGx6fGrsLO2XIUzngb7jFLmXmiuI4kulpyBjrqo8ClkayjXin0He0OSm_NnrGYZIJ727L1m7nHjCqQUwc7gM70xZ4S1DDDBjMzDF9PQLVHGkMr1Dd3zhspqur6yAIVGXBd1nRH1E4UE_ECBhdXGWLWOECzizuhrETwdh7ajcqDDEftxoGruSQP-IzmLXM-Q6Pd8J2BX9IU46QVQ5mz7Uq_qguaJG2Z3VguvVnwnTiZ0BE0OYx5fgFgG3DbbAxGurxbLp_voVwEY9VxeMXX27og0EiYAEE0zgeHtjQ/file\n",
            "Reusing existing connection to uc4207986edd391aaf48e4fc82a0.dl.dropboxusercontent.com:443.\n",
            "HTTP request sent, awaiting response... 200 OK\n",
            "Length: 132915608 (127M) [application/octet-stream]\n",
            "Saving to: ‘interfax.tar.gz’\n",
            "\n",
            "interfax.tar.gz     100%[===================>] 126.76M  55.6MB/s    in 2.3s    \n",
            "\n",
            "2020-03-27 11:49:01 (55.6 MB/s) - ‘interfax.tar.gz’ saved [132915608/132915608]\n",
            "\n",
            "interfax_20160101_20191015.csv\n"
          ],
          "name": "stdout"
        }
      ]
    },
    {
      "cell_type": "code",
      "metadata": {
        "scrolled": true,
        "id": "F7qmaML3rbm7",
        "colab_type": "code",
        "colab": {}
      },
      "source": [
        "interfax_news_table = pd.read_csv(\n",
        "    'interfax_20160101_20191015.csv',\n",
        "    na_values='-',\n",
        "    escapechar='\\\\',\n",
        "    index_col=False,\n",
        "    usecols=['date', 'title', 'text']\n",
        ")"
      ],
      "execution_count": 0,
      "outputs": []
    },
    {
      "cell_type": "code",
      "metadata": {
        "scrolled": true,
        "id": "PS7wiFAprbnL",
        "colab_type": "code",
        "outputId": "3edd6ac8-d15b-42e9-9b85-442db7ff1260",
        "colab": {
          "base_uri": "https://localhost:8080/",
          "height": 206
        }
      },
      "source": [
        "interfax_news_table.head()"
      ],
      "execution_count": 0,
      "outputs": [
        {
          "output_type": "execute_result",
          "data": {
            "text/html": [
              "<div>\n",
              "<style scoped>\n",
              "    .dataframe tbody tr th:only-of-type {\n",
              "        vertical-align: middle;\n",
              "    }\n",
              "\n",
              "    .dataframe tbody tr th {\n",
              "        vertical-align: top;\n",
              "    }\n",
              "\n",
              "    .dataframe thead th {\n",
              "        text-align: right;\n",
              "    }\n",
              "</style>\n",
              "<table border=\"1\" class=\"dataframe\">\n",
              "  <thead>\n",
              "    <tr style=\"text-align: right;\">\n",
              "      <th></th>\n",
              "      <th>date</th>\n",
              "      <th>title</th>\n",
              "      <th>text</th>\n",
              "    </tr>\n",
              "  </thead>\n",
              "  <tbody>\n",
              "    <tr>\n",
              "      <th>0</th>\n",
              "      <td>2019-09-09 14:09:00</td>\n",
              "      <td>Верховный суд в октябре рассмотрит жалобу на п...</td>\n",
              "      <td>Москва. 9 сентября. INTERFAX.RU - Верховный су...</td>\n",
              "    </tr>\n",
              "    <tr>\n",
              "      <th>1</th>\n",
              "      <td>2019-09-10 14:12:00</td>\n",
              "      <td>Суд Петербурга отменил выдворение блогера-оппо...</td>\n",
              "      <td>Москва. 10 сентября. INTERFAX.RU - Петербургск...</td>\n",
              "    </tr>\n",
              "    <tr>\n",
              "      <th>2</th>\n",
              "      <td>2019-09-11 14:20:00</td>\n",
              "      <td>Евро опустился ниже 72 рублей впервые со 2 авг...</td>\n",
              "      <td>Москва. 11 сентября. INTERFAX.RU - Евро в ходе...</td>\n",
              "    </tr>\n",
              "    <tr>\n",
              "      <th>3</th>\n",
              "      <td>2019-09-12 15:30:00</td>\n",
              "      <td>ЕЦБ снизил ставку по депозитам до минус 0,5%</td>\n",
              "      <td>Москва. 12 сентября. INTERFAX.RU - Европейский...</td>\n",
              "    </tr>\n",
              "    <tr>\n",
              "      <th>4</th>\n",
              "      <td>2019-09-13 13:40:00</td>\n",
              "      <td>Москва негативно отнеслась к словам Зеленского...</td>\n",
              "      <td>Москва. 13 сентября. INTERFAX.RU - В Кремле не...</td>\n",
              "    </tr>\n",
              "  </tbody>\n",
              "</table>\n",
              "</div>"
            ],
            "text/plain": [
              "                  date  ...                                               text\n",
              "0  2019-09-09 14:09:00  ...  Москва. 9 сентября. INTERFAX.RU - Верховный су...\n",
              "1  2019-09-10 14:12:00  ...  Москва. 10 сентября. INTERFAX.RU - Петербургск...\n",
              "2  2019-09-11 14:20:00  ...  Москва. 11 сентября. INTERFAX.RU - Евро в ходе...\n",
              "3  2019-09-12 15:30:00  ...  Москва. 12 сентября. INTERFAX.RU - Европейский...\n",
              "4  2019-09-13 13:40:00  ...  Москва. 13 сентября. INTERFAX.RU - В Кремле не...\n",
              "\n",
              "[5 rows x 3 columns]"
            ]
          },
          "metadata": {
            "tags": []
          },
          "execution_count": 5
        }
      ]
    },
    {
      "cell_type": "code",
      "metadata": {
        "id": "K8a98Vukrbnl",
        "colab_type": "code",
        "colab": {}
      },
      "source": [
        "# Extract date\n",
        "interfax_news_table['date'] = pd.to_datetime(\n",
        "    interfax_news_table['date'],\n",
        "    format='%y-%m-%d %H:%M:%S',\n",
        "    exact=False\n",
        ")"
      ],
      "execution_count": 0,
      "outputs": []
    },
    {
      "cell_type": "code",
      "metadata": {
        "id": "KGiDvjTprbn_",
        "colab_type": "code",
        "outputId": "5615174a-efe9-49b8-e9ba-03fe9494f5e1",
        "colab": {
          "base_uri": "https://localhost:8080/",
          "height": 339
        }
      },
      "source": [
        "# Keep only companies-related news\n",
        "company_news_table_parts = []\n",
        "for name in companies_to_listing_names.keys():\n",
        "    company_news_table = interfax_news_table\n",
        "    company_news_table = company_news_table[company_news_table.title.str.contains(name, case=False)]\n",
        "    company_news_table['company'] = name\n",
        "    company_news_table_parts.append(company_news_table)\n",
        "\n",
        "interfax_dataset = pd.concat(company_news_table_parts).reset_index(drop=True)\n",
        "\n",
        "interfax_dataset.head()"
      ],
      "execution_count": 0,
      "outputs": [
        {
          "output_type": "stream",
          "text": [
            "/usr/local/lib/python3.6/dist-packages/ipykernel_launcher.py:5: SettingWithCopyWarning: \n",
            "A value is trying to be set on a copy of a slice from a DataFrame.\n",
            "Try using .loc[row_indexer,col_indexer] = value instead\n",
            "\n",
            "See the caveats in the documentation: http://pandas.pydata.org/pandas-docs/stable/user_guide/indexing.html#returning-a-view-versus-a-copy\n",
            "  \"\"\"\n"
          ],
          "name": "stderr"
        },
        {
          "output_type": "execute_result",
          "data": {
            "text/html": [
              "<div>\n",
              "<style scoped>\n",
              "    .dataframe tbody tr th:only-of-type {\n",
              "        vertical-align: middle;\n",
              "    }\n",
              "\n",
              "    .dataframe tbody tr th {\n",
              "        vertical-align: top;\n",
              "    }\n",
              "\n",
              "    .dataframe thead th {\n",
              "        text-align: right;\n",
              "    }\n",
              "</style>\n",
              "<table border=\"1\" class=\"dataframe\">\n",
              "  <thead>\n",
              "    <tr style=\"text-align: right;\">\n",
              "      <th></th>\n",
              "      <th>date</th>\n",
              "      <th>title</th>\n",
              "      <th>text</th>\n",
              "      <th>company</th>\n",
              "    </tr>\n",
              "  </thead>\n",
              "  <tbody>\n",
              "    <tr>\n",
              "      <th>0</th>\n",
              "      <td>2019-09-24 12:31:00</td>\n",
              "      <td>\"Яндекс\" вернулся в список самых быстрорастущи...</td>\n",
              "      <td>Москва. 24 сентября. INTERFAX.RU - \"Яндекс\" вп...</td>\n",
              "      <td>Яндекс</td>\n",
              "    </tr>\n",
              "    <tr>\n",
              "      <th>1</th>\n",
              "      <td>2019-09-24 13:55:00</td>\n",
              "      <td>Техдиректор \"ВКонтакте\" присоединится к фудтех...</td>\n",
              "      <td>Москва. 24 сентября. INTERFAX.RU - Новым техни...</td>\n",
              "      <td>Яндекс</td>\n",
              "    </tr>\n",
              "    <tr>\n",
              "      <th>2</th>\n",
              "      <td>2019-09-12 01:51:00</td>\n",
              "      <td>\"Яндекс\" вложит 5 млрд рублей в подготовку IT-...</td>\n",
              "      <td>Москва. 12 сентября. INTERFAX.RU - \"Яндекс\" об...</td>\n",
              "      <td>Яндекс</td>\n",
              "    </tr>\n",
              "    <tr>\n",
              "      <th>3</th>\n",
              "      <td>2019-09-11 09:49:00</td>\n",
              "      <td>Gett пожаловался в ФАС на сделку \"Яндекс.Такси...</td>\n",
              "      <td>Сделка усилит доминирование сервиса \"Яндекса\" ...</td>\n",
              "      <td>Яндекс</td>\n",
              "    </tr>\n",
              "    <tr>\n",
              "      <th>4</th>\n",
              "      <td>2016-01-15 14:24:00</td>\n",
              "      <td>\"Яндекс.переводчик\" освоил язык эльфов</td>\n",
              "      <td>Москва. 15 января. INTERFAX.RU - Ко дню рожден...</td>\n",
              "      <td>Яндекс</td>\n",
              "    </tr>\n",
              "  </tbody>\n",
              "</table>\n",
              "</div>"
            ],
            "text/plain": [
              "                 date  ... company\n",
              "0 2019-09-24 12:31:00  ...  Яндекс\n",
              "1 2019-09-24 13:55:00  ...  Яндекс\n",
              "2 2019-09-12 01:51:00  ...  Яндекс\n",
              "3 2019-09-11 09:49:00  ...  Яндекс\n",
              "4 2016-01-15 14:24:00  ...  Яндекс\n",
              "\n",
              "[5 rows x 4 columns]"
            ]
          },
          "metadata": {
            "tags": []
          },
          "execution_count": 10
        }
      ]
    },
    {
      "cell_type": "code",
      "metadata": {
        "id": "Nm_GhfbmrboM",
        "colab_type": "code",
        "outputId": "5a2bcac3-aee6-4149-e1c6-0546e8998344",
        "colab": {
          "base_uri": "https://localhost:8080/",
          "height": 36
        }
      },
      "source": [
        "len(interfax_dataset)"
      ],
      "execution_count": 0,
      "outputs": [
        {
          "output_type": "execute_result",
          "data": {
            "text/plain": [
              "1896"
            ]
          },
          "metadata": {
            "tags": []
          },
          "execution_count": 11
        }
      ]
    },
    {
      "cell_type": "code",
      "metadata": {
        "scrolled": true,
        "id": "KTL4Tcverbog",
        "colab_type": "code",
        "outputId": "80c6ddc6-de28-460d-d8d3-4b355c1917b3",
        "colab": {
          "base_uri": "https://localhost:8080/",
          "height": 36
        }
      },
      "source": [
        "len(interfax_dataset[interfax_dataset['date'] > '2017-05-31'])"
      ],
      "execution_count": 0,
      "outputs": [
        {
          "output_type": "execute_result",
          "data": {
            "text/plain": [
              "1226"
            ]
          },
          "metadata": {
            "tags": []
          },
          "execution_count": 12
        }
      ]
    },
    {
      "cell_type": "code",
      "metadata": {
        "id": "V8wXHIHgspO-",
        "colab_type": "code",
        "outputId": "41124d9c-c75b-4146-c8ed-dc004f2f8e33",
        "colab": {
          "base_uri": "https://localhost:8080/",
          "height": 1000
        }
      },
      "source": [
        "!wget https://www.dropbox.com/s/jjn0e05sxonyt78/tiingo_stocks.zip\n",
        "!unzip tiingo_stocks.zip"
      ],
      "execution_count": 0,
      "outputs": [
        {
          "output_type": "stream",
          "text": [
            "--2020-03-27 11:13:51--  https://www.dropbox.com/s/jjn0e05sxonyt78/tiingo_stocks.zip\n",
            "Resolving www.dropbox.com (www.dropbox.com)... 162.125.9.1, 2620:100:601f:1::a27d:901\n",
            "Connecting to www.dropbox.com (www.dropbox.com)|162.125.9.1|:443... connected.\n",
            "HTTP request sent, awaiting response... 301 Moved Permanently\n",
            "Location: /s/raw/jjn0e05sxonyt78/tiingo_stocks.zip [following]\n",
            "--2020-03-27 11:13:52--  https://www.dropbox.com/s/raw/jjn0e05sxonyt78/tiingo_stocks.zip\n",
            "Reusing existing connection to www.dropbox.com:443.\n",
            "HTTP request sent, awaiting response... 302 Found\n",
            "Location: https://uc89941cb13bf7e5e02ed21f9749.dl.dropboxusercontent.com/cd/0/inline/A0slHGMpvMmNkF01XI9qm9vpgARkmZjhpI4OjopHymfB28hwWo9P-X7wu33So6JzhhIbIMlmxvgLKEedC7pIsfrXs2gwvCET4VobOCLt8KMrP-2YogJg0kwHZGE_jI22I2E/file# [following]\n",
            "--2020-03-27 11:13:52--  https://uc89941cb13bf7e5e02ed21f9749.dl.dropboxusercontent.com/cd/0/inline/A0slHGMpvMmNkF01XI9qm9vpgARkmZjhpI4OjopHymfB28hwWo9P-X7wu33So6JzhhIbIMlmxvgLKEedC7pIsfrXs2gwvCET4VobOCLt8KMrP-2YogJg0kwHZGE_jI22I2E/file\n",
            "Resolving uc89941cb13bf7e5e02ed21f9749.dl.dropboxusercontent.com (uc89941cb13bf7e5e02ed21f9749.dl.dropboxusercontent.com)... 162.125.9.6, 2620:100:601f:6::a27d:906\n",
            "Connecting to uc89941cb13bf7e5e02ed21f9749.dl.dropboxusercontent.com (uc89941cb13bf7e5e02ed21f9749.dl.dropboxusercontent.com)|162.125.9.6|:443... connected.\n",
            "HTTP request sent, awaiting response... 302 FOUND\n",
            "Location: /cd/0/inline2/A0vb5XLukhiJ66uJVIctN-G9AGSxCBlJNH-beSp_OCmU2U9xPB_2HPwJGOeItBn_QCYeSUWTnsLX8ydAtV2iN_HX7xu0ZXNSJXiiVVmbJclkdIDe2T6jpF2ntEPfFASOB0PmTLWsQn1q3x6qhrgGer5QzDVvFiUTbG66d3Zgf1QGegydwh6Zi7Q7VDFcK1D352tYNMRTl26ONoBXe66WKyhzlf76dYaIFlQqxpW3vP2SF0gqO9rjaegch9F80wHDv6UCXy-pcyO7aidrDAksS7KHYBoSq9nyAHXUkg2-yXhD2Pa-YizH90mpTW8mEtW4BIylY3Rcu9E8ijJRatv_EUnVUTMisXZeBZ325Mr2cqBL3Q/file [following]\n",
            "--2020-03-27 11:13:52--  https://uc89941cb13bf7e5e02ed21f9749.dl.dropboxusercontent.com/cd/0/inline2/A0vb5XLukhiJ66uJVIctN-G9AGSxCBlJNH-beSp_OCmU2U9xPB_2HPwJGOeItBn_QCYeSUWTnsLX8ydAtV2iN_HX7xu0ZXNSJXiiVVmbJclkdIDe2T6jpF2ntEPfFASOB0PmTLWsQn1q3x6qhrgGer5QzDVvFiUTbG66d3Zgf1QGegydwh6Zi7Q7VDFcK1D352tYNMRTl26ONoBXe66WKyhzlf76dYaIFlQqxpW3vP2SF0gqO9rjaegch9F80wHDv6UCXy-pcyO7aidrDAksS7KHYBoSq9nyAHXUkg2-yXhD2Pa-YizH90mpTW8mEtW4BIylY3Rcu9E8ijJRatv_EUnVUTMisXZeBZ325Mr2cqBL3Q/file\n",
            "Reusing existing connection to uc89941cb13bf7e5e02ed21f9749.dl.dropboxusercontent.com:443.\n",
            "HTTP request sent, awaiting response... 200 OK\n",
            "Length: 1674280 (1.6M) [application/zip]\n",
            "Saving to: ‘tiingo_stocks.zip’\n",
            "\n",
            "\rtiingo_stocks.zip     0%[                    ]       0  --.-KB/s               \rtiingo_stocks.zip   100%[===================>]   1.60M  --.-KB/s    in 0.1s    \n",
            "\n",
            "2020-03-27 11:13:53 (14.0 MB/s) - ‘tiingo_stocks.zip’ saved [1674280/1674280]\n",
            "\n",
            "Archive:  tiingo_stocks.zip\n",
            "   creating: tiingo_stocks/\n",
            "  inflating: tiingo_stocks/F.json    \n",
            "  inflating: tiingo_stocks/YNDX.json  \n",
            "  inflating: tiingo_stocks/ojscy.json  \n",
            "  inflating: tiingo_stocks/GM.json   \n",
            "  inflating: tiingo_stocks/VZ.json   \n",
            "  inflating: tiingo_stocks/GE.json   \n",
            "  inflating: tiingo_stocks/lukoy.json  \n",
            "  inflating: tiingo_stocks/SBRCY.json  \n",
            "  inflating: tiingo_stocks/BAC.json  \n",
            "  inflating: tiingo_stocks/BA.json   \n",
            "  inflating: tiingo_stocks/C.json    \n",
            "  inflating: tiingo_stocks/DELL.json  \n",
            "  inflating: tiingo_stocks/AAPL.json  \n",
            "  inflating: tiingo_stocks/IBM.json  \n",
            "  inflating: tiingo_stocks/INTC.json  \n",
            "  inflating: tiingo_stocks/PG.json   \n",
            "  inflating: tiingo_stocks/PEP.json  \n",
            "  inflating: tiingo_stocks/KO.json   \n",
            "  inflating: tiingo_stocks/T.json    \n",
            "  inflating: tiingo_stocks/JNJ.json  \n",
            "  inflating: tiingo_stocks/DIS.json  \n",
            "  inflating: tiingo_stocks/OGZPY.json  \n",
            "  inflating: tiingo_stocks/SGTPY.json  \n",
            "  inflating: tiingo_stocks/MSFT.json  \n",
            "  inflating: tiingo_stocks/GOOG.json  \n",
            "  inflating: tiingo_stocks/FB.json   \n",
            "  inflating: tiingo_stocks/AMZN.json  \n",
            "  inflating: tiingo_stocks/NFLX.json  \n",
            "  inflating: tiingo_stocks/NVDA.json  \n"
          ],
          "name": "stdout"
        }
      ]
    },
    {
      "cell_type": "code",
      "metadata": {
        "id": "MOmYwj8Arbo2",
        "colab_type": "code",
        "outputId": "6fd5af1c-2999-4ff9-bffc-b4071cb3201b",
        "colab": {
          "base_uri": "https://localhost:8080/",
          "height": 243
        }
      },
      "source": [
        "import os\n",
        "dir_path = './tiingo_stocks/'\n",
        "# company_to_json_df = {}\n",
        "\n",
        "def add_price_change(dataset, companies_to_listing_names):\n",
        "    \n",
        "    def get_close_price(df, time, fill_method):\n",
        "        return df.iloc[df.index.get_loc(time, method=fill_method)]['close']\n",
        "\n",
        "    def get_price_change(row):\n",
        "        utc_date = row['date'] - datetime.timedelta(hours=3)  # Get UTC+0\n",
        "        listing_name = companies_to_listing_names[row['company']]\n",
        "        df = company_to_json_df[listing_name].set_index('date')\n",
        "        left_time_bound = utc_date - datetime.timedelta(hours=1)\n",
        "        right_time_bound = utc_date + datetime.timedelta(hours=3)\n",
        "        try:\n",
        "            old_price = get_close_price(df, left_time_bound, 'ffill')\n",
        "            new_price = get_close_price(df, right_time_bound, 'bfill')\n",
        "        except KeyError:\n",
        "            return np.nan\n",
        "        return (new_price - old_price) / old_price * 100, left_time_bound, right_time_bound, old_price, new_price\n",
        "               \n",
        "\n",
        "    def download_data(company_name):\n",
        "        url = f'https://api.tiingo.com/iex/{company_name}/prices'\n",
        "        params = {\n",
        "            'startDate': '2015-01-01',\n",
        "            # 'endDate': '2017-12-12',\n",
        "            'resampleFreq': '60min',\n",
        "            'token': os.environ.get('TIINGO_TOKEN', None)\n",
        "        }\n",
        "\n",
        "        r = requests.get(url=url, params=params)\n",
        "        r.raise_for_status()\n",
        "        data = r.json()\n",
        "\n",
        "        os.makedirs(os.path.dirname(filename), exist_ok=True)\n",
        "        with open(filename, 'w') as f:\n",
        "            f.write(json.dumps(data))\n",
        "\n",
        "    company_to_json_df = {}\n",
        "    for listing_name in companies_to_listing_names.values():\n",
        "        filename = dir_path + f'{listing_name}.json'\n",
        "        if not os.path.isfile(filename):\n",
        "            download_data(listing_name)\n",
        "        # load json data to df\n",
        "        company_to_json_df[listing_name] = pd.read_json(filename)#.set_index('date')\n",
        "\n",
        "    return dataset.apply(get_price_change, axis=1)\n",
        "\n",
        "interfax_dataset_price_change = interfax_dataset\n",
        "column = add_price_change(interfax_dataset_price_change, companies_to_listing_names).dropna()\n",
        "interfax_dataset_price_change['price_change'] = column.apply(lambda x: x[0])\n",
        "interfax_dataset_price_change['left_time'] = column.apply(lambda x: x[1])\n",
        "interfax_dataset_price_change['right_time'] = column.apply(lambda x: x[2])\n",
        "interfax_dataset_price_change['old_price'] = column.apply(lambda x: x[3])\n",
        "interfax_dataset_price_change['new_price'] = column.apply(lambda x: x[4])\n",
        "interfax_dataset_price_change = interfax_dataset_price_change.dropna()\n",
        "interfax_dataset_price_change['price_change']"
      ],
      "execution_count": 0,
      "outputs": [
        {
          "output_type": "execute_result",
          "data": {
            "text/plain": [
              "0      -1.366867\n",
              "1      -1.366867\n",
              "2       0.238790\n",
              "3       0.680363\n",
              "101    -0.883978\n",
              "          ...   \n",
              "1891    0.000000\n",
              "1892    1.715981\n",
              "1893    0.477177\n",
              "1894    2.197275\n",
              "1895    7.291252\n",
              "Name: price_change, Length: 1219, dtype: float64"
            ]
          },
          "metadata": {
            "tags": []
          },
          "execution_count": 13
        }
      ]
    },
    {
      "cell_type": "code",
      "metadata": {
        "id": "zTUYj8mHrbpN",
        "colab_type": "code",
        "outputId": "ce2fc2a3-6c26-49b7-8c34-093820bc0c98",
        "colab": {
          "base_uri": "https://localhost:8080/",
          "height": 790
        }
      },
      "source": [
        "threshold = 4\n",
        "# nonzero_samples = interfax_dataset_price_change[(abs(interfax_dataset_price_change['price_change']) > threshold) & (abs(interfax_dataset_price_change['price_change']) < (threshold+1))]\n",
        "nonzero_samples = interfax_dataset_price_change[(abs(interfax_dataset_price_change['price_change']) > threshold)]\n",
        "print(len(nonzero_samples))\n",
        "nonzero_samples"
      ],
      "execution_count": 0,
      "outputs": [
        {
          "output_type": "stream",
          "text": [
            "70\n"
          ],
          "name": "stdout"
        },
        {
          "output_type": "execute_result",
          "data": {
            "text/html": [
              "<div>\n",
              "<style scoped>\n",
              "    .dataframe tbody tr th:only-of-type {\n",
              "        vertical-align: middle;\n",
              "    }\n",
              "\n",
              "    .dataframe tbody tr th {\n",
              "        vertical-align: top;\n",
              "    }\n",
              "\n",
              "    .dataframe thead th {\n",
              "        text-align: right;\n",
              "    }\n",
              "</style>\n",
              "<table border=\"1\" class=\"dataframe\">\n",
              "  <thead>\n",
              "    <tr style=\"text-align: right;\">\n",
              "      <th></th>\n",
              "      <th>date</th>\n",
              "      <th>title</th>\n",
              "      <th>text</th>\n",
              "      <th>company</th>\n",
              "      <th>price_change</th>\n",
              "      <th>left_time</th>\n",
              "      <th>right_time</th>\n",
              "      <th>old_price</th>\n",
              "      <th>new_price</th>\n",
              "    </tr>\n",
              "  </thead>\n",
              "  <tbody>\n",
              "    <tr>\n",
              "      <th>112</th>\n",
              "      <td>2017-07-13 14:48:00</td>\n",
              "      <td>Uber получит 3 из 7 мест в совете директоров с...</td>\n",
              "      <td>Москва. 13 июля. INTERFAX.RU - Представители U...</td>\n",
              "      <td>Яндекс</td>\n",
              "      <td>16.261204</td>\n",
              "      <td>2017-07-13 10:48:00</td>\n",
              "      <td>2017-07-13 14:48:00</td>\n",
              "      <td>27.335</td>\n",
              "      <td>31.780</td>\n",
              "    </tr>\n",
              "    <tr>\n",
              "      <th>113</th>\n",
              "      <td>2017-07-13 17:00:00</td>\n",
              "      <td>Глава ФАС прокомментировал сделку \"Яндекса\" и ...</td>\n",
              "      <td>По словам Игоря Артемьева, теоретически она мо...</td>\n",
              "      <td>Яндекс</td>\n",
              "      <td>15.072252</td>\n",
              "      <td>2017-07-13 13:00:00</td>\n",
              "      <td>2017-07-13 17:00:00</td>\n",
              "      <td>27.335</td>\n",
              "      <td>31.455</td>\n",
              "    </tr>\n",
              "    <tr>\n",
              "      <th>114</th>\n",
              "      <td>2017-07-13 17:23:00</td>\n",
              "      <td>Финдиректор \"Яндекса\" не исключил IPO объедине...</td>\n",
              "      <td>Москва. 13 июля. INTERFAX.RU - \"Яндекс\" не иск...</td>\n",
              "      <td>Яндекс</td>\n",
              "      <td>15.200293</td>\n",
              "      <td>2017-07-13 13:23:00</td>\n",
              "      <td>2017-07-13 17:23:00</td>\n",
              "      <td>27.335</td>\n",
              "      <td>31.490</td>\n",
              "    </tr>\n",
              "    <tr>\n",
              "      <th>115</th>\n",
              "      <td>2017-07-13 13:16:00</td>\n",
              "      <td>\"Яндекс.Такси\" присоединило российский бизнес ...</td>\n",
              "      <td>Uber и \"Яндекс\" инвестируют соответственно $22...</td>\n",
              "      <td>Яндекс</td>\n",
              "      <td>15.291751</td>\n",
              "      <td>2017-07-13 09:16:00</td>\n",
              "      <td>2017-07-13 13:16:00</td>\n",
              "      <td>27.335</td>\n",
              "      <td>31.515</td>\n",
              "    </tr>\n",
              "    <tr>\n",
              "      <th>116</th>\n",
              "      <td>2017-07-13 13:57:00</td>\n",
              "      <td>Акции \"Яндекса\" подскочили на 17,5% на новостя...</td>\n",
              "      <td>Москва. 13 июля. INTERFAX.RU - Акции \"Яндекса\"...</td>\n",
              "      <td>Яндекс</td>\n",
              "      <td>15.291751</td>\n",
              "      <td>2017-07-13 09:57:00</td>\n",
              "      <td>2017-07-13 13:57:00</td>\n",
              "      <td>27.335</td>\n",
              "      <td>31.515</td>\n",
              "    </tr>\n",
              "    <tr>\n",
              "      <th>...</th>\n",
              "      <td>...</td>\n",
              "      <td>...</td>\n",
              "      <td>...</td>\n",
              "      <td>...</td>\n",
              "      <td>...</td>\n",
              "      <td>...</td>\n",
              "      <td>...</td>\n",
              "      <td>...</td>\n",
              "      <td>...</td>\n",
              "    </tr>\n",
              "    <tr>\n",
              "      <th>1775</th>\n",
              "      <td>2017-10-27 09:32:00</td>\n",
              "      <td>Чистая прибыль Intel за III квартал подскочила...</td>\n",
              "      <td>Санта-Клара. 27 октября. ИНТЕРФАКС - Intel Cor...</td>\n",
              "      <td>Intel</td>\n",
              "      <td>5.199516</td>\n",
              "      <td>2017-10-27 05:32:00</td>\n",
              "      <td>2017-10-27 09:32:00</td>\n",
              "      <td>41.350</td>\n",
              "      <td>43.500</td>\n",
              "    </tr>\n",
              "    <tr>\n",
              "      <th>1777</th>\n",
              "      <td>2018-01-26 09:50:00</td>\n",
              "      <td>Intel отчиталась о рекордной выручке в IV квар...</td>\n",
              "      <td>Москва. 26 января. INTERFAX.RU - Intel Corp по...</td>\n",
              "      <td>Intel</td>\n",
              "      <td>9.623662</td>\n",
              "      <td>2018-01-26 05:50:00</td>\n",
              "      <td>2018-01-26 09:50:00</td>\n",
              "      <td>45.305</td>\n",
              "      <td>49.665</td>\n",
              "    </tr>\n",
              "    <tr>\n",
              "      <th>1849</th>\n",
              "      <td>2018-06-13 08:11:00</td>\n",
              "      <td>Суд разрешил слияние Time Warner и AT&amp;T</td>\n",
              "      <td>Сделку стоимостью $80 млрд обещал заблокироват...</td>\n",
              "      <td>AT&amp;T</td>\n",
              "      <td>-5.138282</td>\n",
              "      <td>2018-06-13 04:11:00</td>\n",
              "      <td>2018-06-13 08:11:00</td>\n",
              "      <td>34.350</td>\n",
              "      <td>32.585</td>\n",
              "    </tr>\n",
              "    <tr>\n",
              "      <th>1870</th>\n",
              "      <td>2017-08-09 11:49:00</td>\n",
              "      <td>Disney запустит сервисы потокового видео и отк...</td>\n",
              "      <td>Соглашение, позволявшее Netflix транслировать ...</td>\n",
              "      <td>Disney</td>\n",
              "      <td>-5.005141</td>\n",
              "      <td>2017-08-09 07:49:00</td>\n",
              "      <td>2017-08-09 11:49:00</td>\n",
              "      <td>106.990</td>\n",
              "      <td>101.635</td>\n",
              "    </tr>\n",
              "    <tr>\n",
              "      <th>1895</th>\n",
              "      <td>2019-03-11 16:08:00</td>\n",
              "      <td>Nvidia купит поставщика решений коммутации для...</td>\n",
              "      <td>Москва. 11 марта. INTERFAX.RU - Американская N...</td>\n",
              "      <td>Nvidia</td>\n",
              "      <td>7.291252</td>\n",
              "      <td>2019-03-11 12:08:00</td>\n",
              "      <td>2019-03-11 16:08:00</td>\n",
              "      <td>150.660</td>\n",
              "      <td>161.645</td>\n",
              "    </tr>\n",
              "  </tbody>\n",
              "</table>\n",
              "<p>70 rows × 9 columns</p>\n",
              "</div>"
            ],
            "text/plain": [
              "                    date  ... new_price\n",
              "112  2017-07-13 14:48:00  ...    31.780\n",
              "113  2017-07-13 17:00:00  ...    31.455\n",
              "114  2017-07-13 17:23:00  ...    31.490\n",
              "115  2017-07-13 13:16:00  ...    31.515\n",
              "116  2017-07-13 13:57:00  ...    31.515\n",
              "...                  ...  ...       ...\n",
              "1775 2017-10-27 09:32:00  ...    43.500\n",
              "1777 2018-01-26 09:50:00  ...    49.665\n",
              "1849 2018-06-13 08:11:00  ...    32.585\n",
              "1870 2017-08-09 11:49:00  ...   101.635\n",
              "1895 2019-03-11 16:08:00  ...   161.645\n",
              "\n",
              "[70 rows x 9 columns]"
            ]
          },
          "metadata": {
            "tags": []
          },
          "execution_count": 14
        }
      ]
    },
    {
      "cell_type": "code",
      "metadata": {
        "id": "VbemEAGArbpf",
        "colab_type": "code",
        "outputId": "7a1b3488-70cf-4c76-8eed-e101088b49c8",
        "colab": {
          "base_uri": "https://localhost:8080/",
          "height": 169
        }
      },
      "source": [
        "def calc_target(dataset, threshold=threshold):\n",
        "    return \\\n",
        "        (dataset['price_change'] > threshold) * 1 + \\\n",
        "        (dataset['price_change'] < -threshold) * -1\n",
        "\n",
        "interfax_dataset_target = interfax_dataset_price_change\n",
        "interfax_dataset_target['target'] = calc_target(interfax_dataset_target)\n",
        "interfax_dataset_target = interfax_dataset_target.drop(['price_change', 'date'], axis=1)\n",
        "\n",
        "len(interfax_dataset_target[interfax_dataset_target['target'] != 0])"
      ],
      "execution_count": 0,
      "outputs": [
        {
          "output_type": "stream",
          "text": [
            "/usr/local/lib/python3.6/dist-packages/ipykernel_launcher.py:5: SettingWithCopyWarning: \n",
            "A value is trying to be set on a copy of a slice from a DataFrame.\n",
            "Try using .loc[row_indexer,col_indexer] = value instead\n",
            "\n",
            "See the caveats in the documentation: http://pandas.pydata.org/pandas-docs/stable/user_guide/indexing.html#returning-a-view-versus-a-copy\n",
            "  \"\"\"\n"
          ],
          "name": "stderr"
        },
        {
          "output_type": "execute_result",
          "data": {
            "text/plain": [
              "70"
            ]
          },
          "metadata": {
            "tags": []
          },
          "execution_count": 15
        }
      ]
    },
    {
      "cell_type": "code",
      "metadata": {
        "id": "fb3yznZzrbpu",
        "colab_type": "code",
        "outputId": "0c1d1244-6f44-458e-ba14-39cee814cf9e",
        "colab": {
          "base_uri": "https://localhost:8080/",
          "height": 597
        }
      },
      "source": [
        "interfax_dataset_target"
      ],
      "execution_count": 0,
      "outputs": [
        {
          "output_type": "execute_result",
          "data": {
            "text/html": [
              "<div>\n",
              "<style scoped>\n",
              "    .dataframe tbody tr th:only-of-type {\n",
              "        vertical-align: middle;\n",
              "    }\n",
              "\n",
              "    .dataframe tbody tr th {\n",
              "        vertical-align: top;\n",
              "    }\n",
              "\n",
              "    .dataframe thead th {\n",
              "        text-align: right;\n",
              "    }\n",
              "</style>\n",
              "<table border=\"1\" class=\"dataframe\">\n",
              "  <thead>\n",
              "    <tr style=\"text-align: right;\">\n",
              "      <th></th>\n",
              "      <th>title</th>\n",
              "      <th>text</th>\n",
              "      <th>company</th>\n",
              "      <th>left_time</th>\n",
              "      <th>right_time</th>\n",
              "      <th>old_price</th>\n",
              "      <th>new_price</th>\n",
              "      <th>target</th>\n",
              "    </tr>\n",
              "  </thead>\n",
              "  <tbody>\n",
              "    <tr>\n",
              "      <th>0</th>\n",
              "      <td>\"Яндекс\" вернулся в список самых быстрорастущи...</td>\n",
              "      <td>Москва. 24 сентября. INTERFAX.RU - \"Яндекс\" вп...</td>\n",
              "      <td>Яндекс</td>\n",
              "      <td>2019-09-24 08:31:00</td>\n",
              "      <td>2019-09-24 12:31:00</td>\n",
              "      <td>36.58</td>\n",
              "      <td>36.080</td>\n",
              "      <td>0</td>\n",
              "    </tr>\n",
              "    <tr>\n",
              "      <th>1</th>\n",
              "      <td>Техдиректор \"ВКонтакте\" присоединится к фудтех...</td>\n",
              "      <td>Москва. 24 сентября. INTERFAX.RU - Новым техни...</td>\n",
              "      <td>Яндекс</td>\n",
              "      <td>2019-09-24 09:55:00</td>\n",
              "      <td>2019-09-24 13:55:00</td>\n",
              "      <td>36.58</td>\n",
              "      <td>36.080</td>\n",
              "      <td>0</td>\n",
              "    </tr>\n",
              "    <tr>\n",
              "      <th>2</th>\n",
              "      <td>\"Яндекс\" вложит 5 млрд рублей в подготовку IT-...</td>\n",
              "      <td>Москва. 12 сентября. INTERFAX.RU - \"Яндекс\" об...</td>\n",
              "      <td>Яндекс</td>\n",
              "      <td>2019-09-11 21:51:00</td>\n",
              "      <td>2019-09-12 01:51:00</td>\n",
              "      <td>37.69</td>\n",
              "      <td>37.780</td>\n",
              "      <td>0</td>\n",
              "    </tr>\n",
              "    <tr>\n",
              "      <th>3</th>\n",
              "      <td>Gett пожаловался в ФАС на сделку \"Яндекс.Такси...</td>\n",
              "      <td>Сделка усилит доминирование сервиса \"Яндекса\" ...</td>\n",
              "      <td>Яндекс</td>\n",
              "      <td>2019-09-11 05:49:00</td>\n",
              "      <td>2019-09-11 09:49:00</td>\n",
              "      <td>37.48</td>\n",
              "      <td>37.735</td>\n",
              "      <td>0</td>\n",
              "    </tr>\n",
              "    <tr>\n",
              "      <th>101</th>\n",
              "      <td>\"Яндекс.Навигатор\" стал показывать освободивши...</td>\n",
              "      <td>Москва. 6 июня. INTERFAX.RU - Программа \"Яндек...</td>\n",
              "      <td>Яндекс</td>\n",
              "      <td>2017-06-06 09:30:00</td>\n",
              "      <td>2017-06-06 13:30:00</td>\n",
              "      <td>27.15</td>\n",
              "      <td>26.910</td>\n",
              "      <td>0</td>\n",
              "    </tr>\n",
              "    <tr>\n",
              "      <th>...</th>\n",
              "      <td>...</td>\n",
              "      <td>...</td>\n",
              "      <td>...</td>\n",
              "      <td>...</td>\n",
              "      <td>...</td>\n",
              "      <td>...</td>\n",
              "      <td>...</td>\n",
              "      <td>...</td>\n",
              "    </tr>\n",
              "    <tr>\n",
              "      <th>1891</th>\n",
              "      <td>Русалочку в новом фильме Disney сыграет чернок...</td>\n",
              "      <td>Москва. 4 июля. INTERFAX.RU - Американская акт...</td>\n",
              "      <td>Disney</td>\n",
              "      <td>2019-07-04 05:30:00</td>\n",
              "      <td>2019-07-04 09:30:00</td>\n",
              "      <td>142.91</td>\n",
              "      <td>142.910</td>\n",
              "      <td>0</td>\n",
              "    </tr>\n",
              "    <tr>\n",
              "      <th>1892</th>\n",
              "      <td>Экс-глава Disney в России займется коммуникаци...</td>\n",
              "      <td>Москва. 10 июля. INTERFAX.RU - Экс-глава Disne...</td>\n",
              "      <td>Disney</td>\n",
              "      <td>2019-07-10 12:21:00</td>\n",
              "      <td>2019-07-10 16:21:00</td>\n",
              "      <td>141.61</td>\n",
              "      <td>144.040</td>\n",
              "      <td>0</td>\n",
              "    </tr>\n",
              "    <tr>\n",
              "      <th>1893</th>\n",
              "      <td>Будущее Человека-паука во франшизе Marvel стал...</td>\n",
              "      <td>Студии не смогли договориться, как делить приб...</td>\n",
              "      <td>Disney</td>\n",
              "      <td>2019-08-21 09:31:00</td>\n",
              "      <td>2019-08-21 13:31:00</td>\n",
              "      <td>135.17</td>\n",
              "      <td>135.815</td>\n",
              "      <td>0</td>\n",
              "    </tr>\n",
              "    <tr>\n",
              "      <th>1894</th>\n",
              "      <td>Показатели Nvidia рекордно выросли за счет спр...</td>\n",
              "      <td>Москва. 9 февраля. INTERFAX.RU - Американский ...</td>\n",
              "      <td>Nvidia</td>\n",
              "      <td>2018-02-09 06:52:00</td>\n",
              "      <td>2018-02-09 10:52:00</td>\n",
              "      <td>218.68</td>\n",
              "      <td>223.485</td>\n",
              "      <td>0</td>\n",
              "    </tr>\n",
              "    <tr>\n",
              "      <th>1895</th>\n",
              "      <td>Nvidia купит поставщика решений коммутации для...</td>\n",
              "      <td>Москва. 11 марта. INTERFAX.RU - Американская N...</td>\n",
              "      <td>Nvidia</td>\n",
              "      <td>2019-03-11 12:08:00</td>\n",
              "      <td>2019-03-11 16:08:00</td>\n",
              "      <td>150.66</td>\n",
              "      <td>161.645</td>\n",
              "      <td>1</td>\n",
              "    </tr>\n",
              "  </tbody>\n",
              "</table>\n",
              "<p>1219 rows × 8 columns</p>\n",
              "</div>"
            ],
            "text/plain": [
              "                                                  title  ... target\n",
              "0     \"Яндекс\" вернулся в список самых быстрорастущи...  ...      0\n",
              "1     Техдиректор \"ВКонтакте\" присоединится к фудтех...  ...      0\n",
              "2     \"Яндекс\" вложит 5 млрд рублей в подготовку IT-...  ...      0\n",
              "3     Gett пожаловался в ФАС на сделку \"Яндекс.Такси...  ...      0\n",
              "101   \"Яндекс.Навигатор\" стал показывать освободивши...  ...      0\n",
              "...                                                 ...  ...    ...\n",
              "1891  Русалочку в новом фильме Disney сыграет чернок...  ...      0\n",
              "1892  Экс-глава Disney в России займется коммуникаци...  ...      0\n",
              "1893  Будущее Человека-паука во франшизе Marvel стал...  ...      0\n",
              "1894  Показатели Nvidia рекордно выросли за счет спр...  ...      0\n",
              "1895  Nvidia купит поставщика решений коммутации для...  ...      1\n",
              "\n",
              "[1219 rows x 8 columns]"
            ]
          },
          "metadata": {
            "tags": []
          },
          "execution_count": 16
        }
      ]
    },
    {
      "cell_type": "code",
      "metadata": {
        "id": "QjCDl4NyrbqG",
        "colab_type": "code",
        "colab": {}
      },
      "source": [
        "dataset = interfax_dataset_target"
      ],
      "execution_count": 0,
      "outputs": []
    },
    {
      "cell_type": "code",
      "metadata": {
        "id": "FhQgw6ddrbqN",
        "colab_type": "code",
        "colab": {}
      },
      "source": [
        "# import deeppavlov\n",
        "\n",
        "# # model = deeppavlov.build_model(deeppavlov.configs., download=True)\n",
        "# from deeppavlov.models.bert.bert_classifier import BertClassifierModel\n",
        "# from deeppavlov.models.preprocessors.bert_preprocessor import BertPreprocessor\n",
        "\n",
        "# BertPreprocessor(\n",
        "#     vocab_file='',\n",
        "#     do_lower_case=True,\n",
        "    \n",
        "# )\n",
        "# BertClassifierModel()"
      ],
      "execution_count": 0,
      "outputs": []
    },
    {
      "cell_type": "code",
      "metadata": {
        "id": "z7cx1exRrbqg",
        "colab_type": "code",
        "colab": {}
      },
      "source": [
        ""
      ],
      "execution_count": 0,
      "outputs": []
    },
    {
      "cell_type": "code",
      "metadata": {
        "id": "DxjOv930rbqv",
        "colab_type": "code",
        "colab": {}
      },
      "source": [
        ""
      ],
      "execution_count": 0,
      "outputs": []
    },
    {
      "cell_type": "code",
      "metadata": {
        "id": "Ovfy7yqerbq3",
        "colab_type": "code",
        "colab": {}
      },
      "source": [
        ""
      ],
      "execution_count": 0,
      "outputs": []
    },
    {
      "cell_type": "code",
      "metadata": {
        "id": "sGlwXsB7rbrI",
        "colab_type": "code",
        "colab": {}
      },
      "source": [
        "# # !mkdir /home/student/large_files_data/tayga_none_fasttextcbow_300_10_2019\n",
        "parent_dir = '/home/student/large_files_data/'\n",
        "# embs_path = parent_dir + 'tayga_none_fasttextcbow_300_10_2019.zip'\n",
        "# !wget http://vectors.nlpl.eu/repository/11/187.zip -O {embs_path}\n",
        "# !unzip {embs_path}"
      ],
      "execution_count": 0,
      "outputs": []
    },
    {
      "cell_type": "code",
      "metadata": {
        "id": "NUYq7HvtzTA8",
        "colab_type": "code",
        "outputId": "41c2b87a-74a0-4667-ffec-37ec30c54b09",
        "colab": {
          "base_uri": "https://localhost:8080/",
          "height": 225
        }
      },
      "source": [
        "!wget http://vectors.nlpl.eu/repository/20/187.zip"
      ],
      "execution_count": 0,
      "outputs": [
        {
          "output_type": "stream",
          "text": [
            "--2020-03-27 11:42:50--  http://vectors.nlpl.eu/repository/20/187.zip\n",
            "Resolving vectors.nlpl.eu (vectors.nlpl.eu)... 129.240.189.225\n",
            "Connecting to vectors.nlpl.eu (vectors.nlpl.eu)|129.240.189.225|:80... connected.\n",
            "HTTP request sent, awaiting response... 200 OK\n",
            "Length: 2692389554 (2.5G) [application/zip]\n",
            "Saving to: ‘187.zip’\n",
            "\n",
            "187.zip             100%[===================>]   2.51G  23.0MB/s    in 1m 56s  \n",
            "\n",
            "2020-03-27 11:44:47 (22.2 MB/s) - ‘187.zip’ saved [2692389554/2692389554]\n",
            "\n"
          ],
          "name": "stdout"
        }
      ]
    },
    {
      "cell_type": "code",
      "metadata": {
        "id": "vSa-0rLhzYiq",
        "colab_type": "code",
        "outputId": "15d70ced-daec-4895-d6c1-df7f95422861",
        "colab": {
          "base_uri": "https://localhost:8080/",
          "height": 149
        }
      },
      "source": [
        "!unzip 187.zip"
      ],
      "execution_count": 0,
      "outputs": [
        {
          "output_type": "stream",
          "text": [
            "Archive:  187.zip\n",
            "  inflating: meta.json               \n",
            "  inflating: model.model             \n",
            "  inflating: model.model.vectors_ngrams.npy  \n",
            "  inflating: model.model.vectors.npy  \n",
            "  inflating: model.model.vectors_vocab.npy  \n",
            "  inflating: README                  \n"
          ],
          "name": "stdout"
        }
      ]
    },
    {
      "cell_type": "code",
      "metadata": {
        "id": "0dZR4dQsrbrT",
        "colab_type": "code",
        "colab": {}
      },
      "source": [
        "from gensim.models import KeyedVectors\n",
        "unzipped_embs_path = 'model.model'\n",
        "fasttext_model = KeyedVectors.load(unzipped_embs_path)"
      ],
      "execution_count": 0,
      "outputs": []
    },
    {
      "cell_type": "code",
      "metadata": {
        "id": "QkC_uPsP0TB7",
        "colab_type": "code",
        "outputId": "ee795c3a-5be0-4ca4-aac1-7e12426daa0d",
        "colab": {
          "base_uri": "https://localhost:8080/",
          "height": 825
        }
      },
      "source": [
        "!pip install -U gensim razdel"
      ],
      "execution_count": 0,
      "outputs": [
        {
          "output_type": "stream",
          "text": [
            "Collecting gensim\n",
            "\u001b[?25l  Downloading https://files.pythonhosted.org/packages/d1/dd/112bd4258cee11e0baaaba064060eb156475a42362e59e3ff28e7ca2d29d/gensim-3.8.1-cp36-cp36m-manylinux1_x86_64.whl (24.2MB)\n",
            "\u001b[K     |████████████████████████████████| 24.2MB 1.3MB/s \n",
            "\u001b[?25hRequirement already up-to-date: razdel in /usr/local/lib/python3.6/dist-packages (0.5.0)\n",
            "Requirement already satisfied, skipping upgrade: numpy>=1.11.3 in /usr/local/lib/python3.6/dist-packages (from gensim) (1.18.2)\n",
            "Requirement already satisfied, skipping upgrade: six>=1.5.0 in /usr/local/lib/python3.6/dist-packages (from gensim) (1.12.0)\n",
            "Requirement already satisfied, skipping upgrade: scipy>=0.18.1 in /usr/local/lib/python3.6/dist-packages (from gensim) (1.4.1)\n",
            "Requirement already satisfied, skipping upgrade: smart-open>=1.8.1 in /usr/local/lib/python3.6/dist-packages (from gensim) (1.10.0)\n",
            "Requirement already satisfied, skipping upgrade: boto3 in /usr/local/lib/python3.6/dist-packages (from smart-open>=1.8.1->gensim) (1.12.27)\n",
            "Requirement already satisfied, skipping upgrade: requests in /usr/local/lib/python3.6/dist-packages (from smart-open>=1.8.1->gensim) (2.21.0)\n",
            "Requirement already satisfied, skipping upgrade: google-cloud-storage in /usr/local/lib/python3.6/dist-packages (from smart-open>=1.8.1->gensim) (1.18.1)\n",
            "Requirement already satisfied, skipping upgrade: jmespath<1.0.0,>=0.7.1 in /usr/local/lib/python3.6/dist-packages (from boto3->smart-open>=1.8.1->gensim) (0.9.5)\n",
            "Requirement already satisfied, skipping upgrade: s3transfer<0.4.0,>=0.3.0 in /usr/local/lib/python3.6/dist-packages (from boto3->smart-open>=1.8.1->gensim) (0.3.3)\n",
            "Requirement already satisfied, skipping upgrade: botocore<1.16.0,>=1.15.27 in /usr/local/lib/python3.6/dist-packages (from boto3->smart-open>=1.8.1->gensim) (1.15.27)\n",
            "Requirement already satisfied, skipping upgrade: idna<2.9,>=2.5 in /usr/local/lib/python3.6/dist-packages (from requests->smart-open>=1.8.1->gensim) (2.8)\n",
            "Requirement already satisfied, skipping upgrade: certifi>=2017.4.17 in /usr/local/lib/python3.6/dist-packages (from requests->smart-open>=1.8.1->gensim) (2019.11.28)\n",
            "Requirement already satisfied, skipping upgrade: chardet<3.1.0,>=3.0.2 in /usr/local/lib/python3.6/dist-packages (from requests->smart-open>=1.8.1->gensim) (3.0.4)\n",
            "Requirement already satisfied, skipping upgrade: urllib3<1.25,>=1.21.1 in /usr/local/lib/python3.6/dist-packages (from requests->smart-open>=1.8.1->gensim) (1.24.3)\n",
            "Requirement already satisfied, skipping upgrade: google-resumable-media<0.5.0dev,>=0.3.1 in /usr/local/lib/python3.6/dist-packages (from google-cloud-storage->smart-open>=1.8.1->gensim) (0.4.1)\n",
            "Requirement already satisfied, skipping upgrade: google-cloud-core<2.0dev,>=1.0.0 in /usr/local/lib/python3.6/dist-packages (from google-cloud-storage->smart-open>=1.8.1->gensim) (1.0.3)\n",
            "Requirement already satisfied, skipping upgrade: google-auth>=1.2.0 in /usr/local/lib/python3.6/dist-packages (from google-cloud-storage->smart-open>=1.8.1->gensim) (1.7.2)\n",
            "Requirement already satisfied, skipping upgrade: docutils<0.16,>=0.10 in /usr/local/lib/python3.6/dist-packages (from botocore<1.16.0,>=1.15.27->boto3->smart-open>=1.8.1->gensim) (0.15.2)\n",
            "Requirement already satisfied, skipping upgrade: python-dateutil<3.0.0,>=2.1 in /usr/local/lib/python3.6/dist-packages (from botocore<1.16.0,>=1.15.27->boto3->smart-open>=1.8.1->gensim) (2.8.1)\n",
            "Requirement already satisfied, skipping upgrade: google-api-core<2.0.0dev,>=1.14.0 in /usr/local/lib/python3.6/dist-packages (from google-cloud-core<2.0dev,>=1.0.0->google-cloud-storage->smart-open>=1.8.1->gensim) (1.16.0)\n",
            "Requirement already satisfied, skipping upgrade: setuptools>=40.3.0 in /usr/local/lib/python3.6/dist-packages (from google-auth>=1.2.0->google-cloud-storage->smart-open>=1.8.1->gensim) (46.0.0)\n",
            "Requirement already satisfied, skipping upgrade: cachetools<3.2,>=2.0.0 in /usr/local/lib/python3.6/dist-packages (from google-auth>=1.2.0->google-cloud-storage->smart-open>=1.8.1->gensim) (3.1.1)\n",
            "Requirement already satisfied, skipping upgrade: rsa<4.1,>=3.1.4 in /usr/local/lib/python3.6/dist-packages (from google-auth>=1.2.0->google-cloud-storage->smart-open>=1.8.1->gensim) (4.0)\n",
            "Requirement already satisfied, skipping upgrade: pyasn1-modules>=0.2.1 in /usr/local/lib/python3.6/dist-packages (from google-auth>=1.2.0->google-cloud-storage->smart-open>=1.8.1->gensim) (0.2.8)\n",
            "Requirement already satisfied, skipping upgrade: protobuf>=3.4.0 in /usr/local/lib/python3.6/dist-packages (from google-api-core<2.0.0dev,>=1.14.0->google-cloud-core<2.0dev,>=1.0.0->google-cloud-storage->smart-open>=1.8.1->gensim) (3.10.0)\n",
            "Requirement already satisfied, skipping upgrade: googleapis-common-protos<2.0dev,>=1.6.0 in /usr/local/lib/python3.6/dist-packages (from google-api-core<2.0.0dev,>=1.14.0->google-cloud-core<2.0dev,>=1.0.0->google-cloud-storage->smart-open>=1.8.1->gensim) (1.51.0)\n",
            "Requirement already satisfied, skipping upgrade: pytz in /usr/local/lib/python3.6/dist-packages (from google-api-core<2.0.0dev,>=1.14.0->google-cloud-core<2.0dev,>=1.0.0->google-cloud-storage->smart-open>=1.8.1->gensim) (2018.9)\n",
            "Requirement already satisfied, skipping upgrade: pyasn1>=0.1.3 in /usr/local/lib/python3.6/dist-packages (from rsa<4.1,>=3.1.4->google-auth>=1.2.0->google-cloud-storage->smart-open>=1.8.1->gensim) (0.4.8)\n",
            "Installing collected packages: gensim\n",
            "  Found existing installation: gensim 3.6.0\n",
            "    Uninstalling gensim-3.6.0:\n",
            "      Successfully uninstalled gensim-3.6.0\n",
            "Successfully installed gensim-3.8.1\n"
          ],
          "name": "stdout"
        },
        {
          "output_type": "display_data",
          "data": {
            "application/vnd.colab-display-data+json": {
              "pip_warning": {
                "packages": [
                  "gensim"
                ]
              }
            }
          },
          "metadata": {
            "tags": []
          }
        }
      ]
    },
    {
      "cell_type": "code",
      "metadata": {
        "id": "LhTZgzh1rbru",
        "colab_type": "code",
        "outputId": "d63cf3dd-3838-43d2-ab66-9255fc19941f",
        "colab": {
          "base_uri": "https://localhost:8080/",
          "height": 1000
        }
      },
      "source": [
        "from razdel import tokenize\n",
        "import numpy as np\n",
        "\n",
        "def get_text_embedding(model, phrase):\n",
        "    embeddings = np.array(\n",
        "        [model.get_vector(word.text) for word in tokenize(phrase)]\n",
        "    )\n",
        "    return np.mean(embeddings, axis=0)\n",
        "    \n",
        "get_text_embedding(fasttext_model, \"В Москве нашли\")"
      ],
      "execution_count": 0,
      "outputs": [
        {
          "output_type": "execute_result",
          "data": {
            "text/plain": [
              "array([-3.19591351e-02,  2.12788299e-01,  2.00785160e-01, -2.96731979e-01,\n",
              "        1.72918045e-03,  6.50605261e-02,  4.87852544e-01, -4.68649358e-01,\n",
              "       -1.82104707e-01,  4.29839015e-01, -4.72085953e-01, -4.38363701e-01,\n",
              "        4.49346304e-01,  1.07596993e-01, -3.52612019e-01, -2.59015352e-01,\n",
              "       -7.13011697e-02,  2.88060218e-01, -1.02649927e-02,  1.83870748e-01,\n",
              "       -3.18037599e-01,  7.20639676e-02, -2.55334020e-01,  2.26732358e-01,\n",
              "       -2.66987920e-01, -2.57337749e-01, -6.11868501e-03, -1.94196656e-01,\n",
              "       -1.42383412e-01,  3.02220192e-02,  3.43344927e-01,  8.17791894e-02,\n",
              "       -9.62877944e-02,  1.13385677e-01, -2.99482435e-01,  6.17247820e-03,\n",
              "        3.29816341e-01,  1.81995317e-01,  4.08083439e-01,  6.34947792e-02,\n",
              "       -5.47910392e-01,  8.84852409e-01, -3.69716972e-01,  1.82050750e-01,\n",
              "       -3.89125973e-01, -9.03919637e-02,  4.13005501e-01,  5.61686695e-01,\n",
              "        1.28564671e-01,  5.20360887e-01,  4.44802046e-01,  1.91065431e-01,\n",
              "       -5.12464106e-01, -5.61224401e-01,  6.30247176e-01, -4.75244761e-01,\n",
              "       -3.66767883e-01, -4.02211994e-01,  2.05243632e-01,  1.58602729e-01,\n",
              "        6.00351989e-01,  1.09589420e-01,  1.10198013e-01,  5.23557961e-01,\n",
              "        5.81307054e-01,  2.42615417e-01, -9.57688019e-02,  4.11765486e-01,\n",
              "       -3.46239656e-01, -2.16137841e-01, -6.15173638e-01, -3.88177872e-01,\n",
              "       -1.23187087e-01,  2.58275300e-01,  7.49198139e-01,  1.41567484e-01,\n",
              "       -5.03935277e-01,  9.12770256e-02, -8.72076333e-01,  1.90587547e-02,\n",
              "       -6.74662113e-01, -1.24162823e-01, -7.92871714e-01, -2.93137699e-01,\n",
              "        9.59844887e-03,  3.32702368e-01,  2.23973170e-01, -7.66499937e-02,\n",
              "       -2.94177383e-01,  2.80254245e-01,  6.12455368e-01,  2.56987125e-01,\n",
              "       -1.72111895e-02,  2.99162537e-01,  1.98591635e-01, -7.25701526e-02,\n",
              "       -4.31486756e-01, -1.98425964e-01,  1.77221373e-01, -1.75194349e-02,\n",
              "       -8.86197090e-02,  3.80110592e-01,  5.20859770e-02, -4.07261938e-01,\n",
              "       -4.24778670e-01, -4.95143652e-01, -7.29291067e-02,  9.28496048e-02,\n",
              "       -1.22815453e-01, -1.02629520e-01, -8.97008836e-01, -2.50678957e-01,\n",
              "       -2.28414774e-01,  1.83694318e-01,  3.82107407e-01, -2.49448955e-01,\n",
              "       -1.43885270e-01,  3.65943879e-01,  2.48073205e-01, -3.67125869e-02,\n",
              "       -2.38638952e-01, -5.83009064e-01, -5.80878735e-01,  2.45940194e-01,\n",
              "        7.00422898e-02,  7.87277147e-02, -6.42905533e-01,  9.55539476e-03,\n",
              "        9.10794079e-01, -1.44006953e-01, -2.89405018e-01, -5.69568276e-01,\n",
              "        4.58112925e-01,  1.98145270e-01,  5.38189225e-02, -2.28398725e-01,\n",
              "       -2.66988248e-01, -1.18420891e-01,  1.25991687e-01, -3.79184872e-04,\n",
              "        2.77121719e-02, -4.68919277e-01,  3.53835195e-01, -9.25055370e-02,\n",
              "       -1.98656797e-01, -2.74447680e-01,  1.39519334e-01,  2.08166942e-01,\n",
              "       -5.75254448e-02,  3.17041427e-01,  3.70259166e-01,  3.88866544e-01,\n",
              "        3.96308154e-01, -1.58827066e-01, -3.09703231e-01,  7.06935748e-02,\n",
              "       -2.91935503e-02,  9.35243070e-02, -1.84952840e-01,  6.85585797e-01,\n",
              "        5.32477856e-01, -3.27658176e-01, -1.86403319e-01, -2.41793707e-01,\n",
              "        9.31521878e-02,  2.41768375e-01, -3.63170147e-01, -1.39153033e-01,\n",
              "        4.14666682e-01, -1.70950368e-01, -2.23490819e-01, -1.34750083e-01,\n",
              "        5.64378917e-01,  1.49388313e-01,  5.94396353e-01, -1.05864130e-01,\n",
              "       -3.34439844e-01, -7.91065246e-02, -2.96516228e-03, -7.51186848e-01,\n",
              "        4.99887252e-03, -1.60456970e-01, -7.61527956e-01,  1.66910604e-01,\n",
              "       -3.46373439e-01, -4.79820073e-02, -4.30154987e-02, -1.37105644e-01,\n",
              "        1.20555855e-01, -5.71459115e-01, -3.80392522e-01,  2.06222892e-01,\n",
              "        2.14966372e-01, -6.44704923e-02, -2.21689939e-01,  1.86759338e-01,\n",
              "        2.89581448e-01, -2.92124543e-02, -2.13710461e-02, -2.40109667e-01,\n",
              "        6.53001726e-01,  1.84094861e-01, -8.87469351e-02,  4.33811426e-01,\n",
              "       -1.29330724e-01,  4.28441018e-02,  7.12613240e-02,  1.56441644e-01,\n",
              "       -7.67096207e-02, -3.85874748e-01, -5.57419956e-01, -9.92164016e-03,\n",
              "       -2.71513965e-02,  5.48066914e-01, -3.75124782e-01,  5.42891808e-02,\n",
              "       -8.63167942e-02,  9.83984694e-02, -5.24640083e-01, -5.13498008e-01,\n",
              "        7.28479803e-01, -1.76631808e-02, -3.24024558e-01, -7.76542574e-02,\n",
              "        2.20894977e-01,  2.88183600e-01, -1.45422429e-01, -4.42780852e-02,\n",
              "       -2.46976733e-01, -2.59098649e-01, -1.73712239e-01, -3.58183622e-01,\n",
              "        3.49206209e-01, -3.44589025e-01,  1.80833817e-01,  8.47013891e-01,\n",
              "        7.46216536e-01,  4.00882453e-01,  1.12548769e-02,  1.46735325e-01,\n",
              "        2.48536274e-01, -7.62162879e-02, -2.52064675e-01,  7.52078354e-01,\n",
              "       -1.97000369e-01, -1.04537390e-01,  2.24106714e-01, -2.13733222e-02,\n",
              "       -5.00752628e-02, -2.98266828e-01,  3.70919444e-02, -1.76061973e-01,\n",
              "        2.02048779e-01,  3.49920273e-01, -3.27889681e-01, -9.54094708e-01,\n",
              "        4.05144304e-01, -3.93657416e-01,  1.99643984e-01,  6.67860508e-02,\n",
              "       -3.06322753e-01, -7.86146343e-01,  7.10187852e-02, -6.20681345e-02,\n",
              "       -2.79854536e-01,  5.47237098e-01,  4.90441293e-01,  2.26017416e-01,\n",
              "        8.49902034e-02, -2.32477054e-01, -2.11999893e-01,  1.28525989e-02,\n",
              "       -1.38003737e-01, -1.65290445e-01, -1.21563554e-01, -3.98860097e-01,\n",
              "       -3.43253285e-01, -6.96025610e-01,  2.60713726e-01,  3.57424736e-01,\n",
              "        4.72086340e-01,  7.32808784e-02,  4.36857551e-01, -4.94452953e-01,\n",
              "        5.35302579e-01, -2.82531708e-01, -3.61872427e-02,  2.05105469e-01,\n",
              "        2.98085541e-01,  1.59484699e-01,  1.12412900e-01,  6.12557352e-01,\n",
              "       -8.37292850e-01,  1.59355149e-01,  3.06525499e-01, -9.27037820e-02,\n",
              "        5.81469126e-02,  2.92117205e-02,  8.94041061e-02,  2.47268125e-01],\n",
              "      dtype=float32)"
            ]
          },
          "metadata": {
            "tags": []
          },
          "execution_count": 19
        }
      ]
    },
    {
      "cell_type": "code",
      "metadata": {
        "id": "VNdmc6Varbr4",
        "colab_type": "code",
        "colab": {}
      },
      "source": [
        "y = dataset['target'].to_numpy()\n",
        "X = np.zeros((dataset.shape[0], fasttext_model.vector_size))\n",
        "for i, title in enumerate(dataset['title']):\n",
        "    X[i, :] = get_text_embedding(fasttext_model, title)"
      ],
      "execution_count": 0,
      "outputs": []
    },
    {
      "cell_type": "code",
      "metadata": {
        "id": "6o9UK7vXrbsK",
        "colab_type": "code",
        "outputId": "e6a40544-f8ef-4620-9146-f0670fb70da8",
        "colab": {
          "base_uri": "https://localhost:8080/",
          "height": 36
        }
      },
      "source": [
        "X.shape"
      ],
      "execution_count": 0,
      "outputs": [
        {
          "output_type": "execute_result",
          "data": {
            "text/plain": [
              "(1219, 300)"
            ]
          },
          "metadata": {
            "tags": []
          },
          "execution_count": 21
        }
      ]
    },
    {
      "cell_type": "code",
      "metadata": {
        "id": "GmRY9SyprbsR",
        "colab_type": "code",
        "colab": {}
      },
      "source": [
        "from sklearn.model_selection import train_test_split\n",
        "\n",
        "X_train, X_test, y_train, y_test = train_test_split(\n",
        "    X, y,\n",
        "    test_size=0.2,\n",
        "    random_state=0,\n",
        "    stratify=y  # to keep targets proportion in train and test\n",
        ")"
      ],
      "execution_count": 0,
      "outputs": []
    },
    {
      "cell_type": "code",
      "metadata": {
        "id": "idG3ktYRrbsX",
        "colab_type": "code",
        "outputId": "779dfc39-8e1f-41d5-e763-df2cc96ee52a",
        "colab": {
          "base_uri": "https://localhost:8080/",
          "height": 263
        }
      },
      "source": [
        "from sklearn.neural_network import MLPClassifier\n",
        "from sklearn import metrics\n",
        "\n",
        "clf = MLPClassifier()\n",
        "clf.fit(X_train, y_train)\n",
        "\n",
        "y_predicted = clf.predict(X_test)\n",
        "print(metrics.classification_report(y_test, y_predicted))"
      ],
      "execution_count": 0,
      "outputs": [
        {
          "output_type": "stream",
          "text": [
            "              precision    recall  f1-score   support\n",
            "\n",
            "          -1       0.25      0.12      0.17         8\n",
            "           0       0.95      0.98      0.97       230\n",
            "           1       0.50      0.17      0.25         6\n",
            "\n",
            "    accuracy                           0.93       244\n",
            "   macro avg       0.57      0.42      0.46       244\n",
            "weighted avg       0.92      0.93      0.92       244\n",
            "\n"
          ],
          "name": "stdout"
        },
        {
          "output_type": "stream",
          "text": [
            "/usr/local/lib/python3.6/dist-packages/sklearn/neural_network/_multilayer_perceptron.py:571: ConvergenceWarning: Stochastic Optimizer: Maximum iterations (200) reached and the optimization hasn't converged yet.\n",
            "  % self.max_iter, ConvergenceWarning)\n"
          ],
          "name": "stderr"
        }
      ]
    },
    {
      "cell_type": "code",
      "metadata": {
        "id": "LPmlYAMprbsi",
        "colab_type": "code",
        "colab": {}
      },
      "source": [
        "from sklearn.preprocessing import LabelBinarizer\n",
        "\n",
        "y_train_onehot = LabelBinarizer().fit_transform(y_train)\n",
        "y_test_onehot = LabelBinarizer().fit_transform(y_test)"
      ],
      "execution_count": 0,
      "outputs": []
    },
    {
      "cell_type": "code",
      "metadata": {
        "scrolled": true,
        "id": "5dIqcy3mrbsr",
        "colab_type": "code",
        "outputId": "057f6cd7-bef4-4c0c-8afd-7b2156cfc2ef",
        "colab": {}
      },
      "source": [
        "import keras\n",
        "import keras.layers as L\n",
        "\n",
        "keras_model = keras.Sequential()\n",
        "keras_model.add(L.Dense(64, activation='relu', input_dim=fasttext_model.vector_size))\n",
        "keras_model.add(L.Dropout(0.5))\n",
        "keras_model.add(L.Dense(64, activation='relu'))\n",
        "keras_model.add(L.Dropout(0.5))\n",
        "keras_model.add(L.Dense(3, activation='softmax'))\n",
        "\n",
        "sgd = keras.optimizers.SGD(lr=0.01, decay=1e-6, momentum=0.9, nesterov=True)\n",
        "keras_model.compile(loss='categorical_crossentropy',\n",
        "                    optimizer=sgd,\n",
        "                    metrics=['accuracy'])\n",
        "\n",
        "keras_model.fit(X_train,\n",
        "          y_train_onehot,\n",
        "          epochs=20,\n",
        "          batch_size=128,\n",
        "          class_weight={0: 100, 1: 1, 2: 100})\n",
        "score = keras_model.evaluate(X_test, y_test_onehot, batch_size=128)"
      ],
      "execution_count": 0,
      "outputs": [
        {
          "output_type": "stream",
          "text": [
            "Using TensorFlow backend.\n"
          ],
          "name": "stderr"
        },
        {
          "output_type": "stream",
          "text": [
            "Epoch 1/20\n",
            "976/976 [==============================] - 0s 269us/step - loss: 6.5065 - acc: 0.2049\n",
            "Epoch 2/20\n",
            "976/976 [==============================] - 0s 37us/step - loss: 10.3563 - acc: 0.3105\n",
            "Epoch 3/20\n",
            "976/976 [==============================] - 0s 32us/step - loss: 10.9173 - acc: 0.2500\n",
            "Epoch 4/20\n",
            "976/976 [==============================] - 0s 39us/step - loss: 10.1285 - acc: 0.0922\n",
            "Epoch 5/20\n",
            "976/976 [==============================] - 0s 49us/step - loss: 4.5143 - acc: 0.0205\n",
            "Epoch 6/20\n",
            "976/976 [==============================] - 0s 50us/step - loss: 4.3351 - acc: 0.0215\n",
            "Epoch 7/20\n",
            "976/976 [==============================] - 0s 53us/step - loss: 4.7658 - acc: 0.0225\n",
            "Epoch 8/20\n",
            "976/976 [==============================] - 0s 42us/step - loss: 4.1169 - acc: 0.0205\n",
            "Epoch 9/20\n",
            "976/976 [==============================] - 0s 38us/step - loss: 4.1942 - acc: 0.0205\n",
            "Epoch 10/20\n",
            "976/976 [==============================] - 0s 44us/step - loss: 4.0015 - acc: 0.0256\n",
            "Epoch 11/20\n",
            "976/976 [==============================] - 0s 46us/step - loss: 3.7596 - acc: 0.0502\n",
            "Epoch 12/20\n",
            "976/976 [==============================] - 0s 55us/step - loss: 4.1154 - acc: 0.1076\n",
            "Epoch 13/20\n",
            "976/976 [==============================] - 0s 47us/step - loss: 5.0279 - acc: 0.0922\n",
            "Epoch 14/20\n",
            "976/976 [==============================] - 0s 44us/step - loss: 9.1052 - acc: 0.0461\n",
            "Epoch 15/20\n",
            "976/976 [==============================] - 0s 63us/step - loss: 8.7546 - acc: 0.0574\n",
            "Epoch 16/20\n",
            "976/976 [==============================] - 0s 41us/step - loss: 5.9501 - acc: 0.0297\n",
            "Epoch 17/20\n",
            "976/976 [==============================] - 0s 54us/step - loss: 5.7003 - acc: 0.0236\n",
            "Epoch 18/20\n",
            "976/976 [==============================] - 0s 34us/step - loss: 4.1150 - acc: 0.0338\n",
            "Epoch 19/20\n",
            "976/976 [==============================] - 0s 39us/step - loss: 4.0532 - acc: 0.0256\n",
            "Epoch 20/20\n",
            "976/976 [==============================] - 0s 53us/step - loss: 5.6346 - acc: 0.0287\n",
            "245/245 [==============================] - 0s 252us/step\n"
          ],
          "name": "stdout"
        }
      ]
    },
    {
      "cell_type": "code",
      "metadata": {
        "id": "xs18ifTnrbs1",
        "colab_type": "code",
        "outputId": "5e7ee5aa-9a56-402d-cbae-b52e7ff51f9c",
        "colab": {}
      },
      "source": [
        "print('Accuracy:', score[1])"
      ],
      "execution_count": 0,
      "outputs": [
        {
          "output_type": "stream",
          "text": [
            "Accuracy: 0.03265306142595958\n"
          ],
          "name": "stdout"
        }
      ]
    },
    {
      "cell_type": "code",
      "metadata": {
        "id": "ujYTuH3urbs7",
        "colab_type": "code",
        "outputId": "682fd482-106f-47b5-f6b3-5664e79d4556",
        "colab": {}
      },
      "source": [
        "from sklearn.metrics import classification_report\n",
        "\n",
        "y_pred = keras_model.predict_classes(X_test)\n",
        "\n",
        "print(classification_report(y_test, y_pred))"
      ],
      "execution_count": 0,
      "outputs": [
        {
          "output_type": "stream",
          "text": [
            "              precision    recall  f1-score   support\n",
            "\n",
            "          -1       0.00      0.00      0.00         3\n",
            "           0       1.00      0.01      0.02       238\n",
            "           1       0.00      0.00      0.00         4\n",
            "           2       0.00      0.00      0.00         0\n",
            "\n",
            "    accuracy                           0.01       245\n",
            "   macro avg       0.25      0.00      0.00       245\n",
            "weighted avg       0.97      0.01      0.02       245\n",
            "\n"
          ],
          "name": "stdout"
        },
        {
          "output_type": "stream",
          "text": [
            "/usr/local/lib/python3.6/dist-packages/sklearn/metrics/classification.py:1437: UndefinedMetricWarning: Precision and F-score are ill-defined and being set to 0.0 in labels with no predicted samples.\n",
            "  'precision', 'predicted', average, warn_for)\n",
            "/usr/local/lib/python3.6/dist-packages/sklearn/metrics/classification.py:1439: UndefinedMetricWarning: Recall and F-score are ill-defined and being set to 0.0 in labels with no true samples.\n",
            "  'recall', 'true', average, warn_for)\n"
          ],
          "name": "stderr"
        }
      ]
    },
    {
      "cell_type": "code",
      "metadata": {
        "id": "D-rCD-S0rbtL",
        "colab_type": "code",
        "colab": {}
      },
      "source": [
        ""
      ],
      "execution_count": 0,
      "outputs": []
    }
  ]
}